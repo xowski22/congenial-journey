{
 "cells": [
  {
   "cell_type": "code",
   "id": "initial_id",
   "metadata": {
    "collapsed": true,
    "ExecuteTime": {
     "end_time": "2025-03-25T20:15:53.853993Z",
     "start_time": "2025-03-25T20:15:53.852340Z"
    }
   },
   "source": [
    "import sys\n",
    "sys.path.append('..')"
   ],
   "outputs": [],
   "execution_count": 2
  },
  {
   "metadata": {
    "ExecuteTime": {
     "end_time": "2025-03-25T20:16:59.630484Z",
     "start_time": "2025-03-25T20:16:55.354054Z"
    }
   },
   "cell_type": "code",
   "source": [
    "import torch\n",
    "from utils.data_utils import MeshDataset\n",
    "from visualization.visualize import visualize_point_cloud, visualize_batch\n",
    "from configs.base_config import BaseConfig"
   ],
   "id": "4ce1a865867e0a67",
   "outputs": [
    {
     "name": "stdout",
     "output_type": "stream",
     "text": [
      "Jupyter environment detected. Enabling Open3D WebVisualizer.\n",
      "[Open3D INFO] WebRTC GUI backend enabled.\n",
      "[Open3D INFO] WebRTCWindowSystem: HTTP handshake server disabled.\n"
     ]
    }
   ],
   "execution_count": 3
  },
  {
   "metadata": {
    "ExecuteTime": {
     "end_time": "2025-03-25T20:17:17.807307Z",
     "start_time": "2025-03-25T20:17:17.805587Z"
    }
   },
   "cell_type": "code",
   "source": "config = BaseConfig()",
   "id": "5519a7878112bb09",
   "outputs": [],
   "execution_count": 4
  },
  {
   "metadata": {
    "ExecuteTime": {
     "end_time": "2025-03-25T20:18:07.120463Z",
     "start_time": "2025-03-25T20:18:06.986147Z"
    }
   },
   "cell_type": "code",
   "source": [
    "dataset = MeshDataset(config.data_dir)\n",
    "sample = dataset[0]\n",
    "print(f\"Sample shape: {sample.shape}\")"
   ],
   "id": "c196e873d6098746",
   "outputs": [
    {
     "ename": "FileNotFoundError",
     "evalue": "[Errno 2] No such file or directory: 'data/raw/ModelNet10/chair/train'",
     "output_type": "error",
     "traceback": [
      "\u001B[0;31m---------------------------------------------------------------------------\u001B[0m",
      "\u001B[0;31mFileNotFoundError\u001B[0m                         Traceback (most recent call last)",
      "Cell \u001B[0;32mIn[5], line 1\u001B[0m\n\u001B[0;32m----> 1\u001B[0m dataset \u001B[38;5;241m=\u001B[39m \u001B[43mMeshDataset\u001B[49m\u001B[43m(\u001B[49m\u001B[43mconfig\u001B[49m\u001B[38;5;241;43m.\u001B[39;49m\u001B[43mdata_dir\u001B[49m\u001B[43m)\u001B[49m\n\u001B[1;32m      2\u001B[0m sample \u001B[38;5;241m=\u001B[39m dataset[\u001B[38;5;241m0\u001B[39m]\n\u001B[1;32m      3\u001B[0m \u001B[38;5;28mprint\u001B[39m(\u001B[38;5;124mf\u001B[39m\u001B[38;5;124m\"\u001B[39m\u001B[38;5;124mSample shape: \u001B[39m\u001B[38;5;132;01m{\u001B[39;00msample\u001B[38;5;241m.\u001B[39mshape\u001B[38;5;132;01m}\u001B[39;00m\u001B[38;5;124m\"\u001B[39m)\n",
      "File \u001B[0;32m/run/media/xowski22/ML_Dev/congenial-journey/utils/data_utils.py:13\u001B[0m, in \u001B[0;36mMeshDataset.__init__\u001B[0;34m(self, root_dir, category, transform)\u001B[0m\n\u001B[1;32m     11\u001B[0m \u001B[38;5;28mself\u001B[39m\u001B[38;5;241m.\u001B[39mcategory \u001B[38;5;241m=\u001B[39m category\n\u001B[1;32m     12\u001B[0m \u001B[38;5;28mself\u001B[39m\u001B[38;5;241m.\u001B[39mtransform \u001B[38;5;241m=\u001B[39m transform\n\u001B[0;32m---> 13\u001B[0m \u001B[38;5;28mself\u001B[39m\u001B[38;5;241m.\u001B[39mmesh_path \u001B[38;5;241m=\u001B[39m \u001B[38;5;28;43mself\u001B[39;49m\u001B[38;5;241;43m.\u001B[39;49m\u001B[43m_get_mesh_paths\u001B[49m\u001B[43m(\u001B[49m\u001B[43m)\u001B[49m\n",
      "File \u001B[0;32m/run/media/xowski22/ML_Dev/congenial-journey/utils/data_utils.py:19\u001B[0m, in \u001B[0;36mMeshDataset._get_mesh_paths\u001B[0;34m(self)\u001B[0m\n\u001B[1;32m     16\u001B[0m category_dir \u001B[38;5;241m=\u001B[39m os\u001B[38;5;241m.\u001B[39mpath\u001B[38;5;241m.\u001B[39mjoin(\u001B[38;5;28mself\u001B[39m\u001B[38;5;241m.\u001B[39mroot_dir, \u001B[38;5;28mself\u001B[39m\u001B[38;5;241m.\u001B[39mcategory, \u001B[38;5;124m\"\u001B[39m\u001B[38;5;124mtrain\u001B[39m\u001B[38;5;124m\"\u001B[39m)\n\u001B[1;32m     17\u001B[0m mesh_paths \u001B[38;5;241m=\u001B[39m []\n\u001B[0;32m---> 19\u001B[0m \u001B[38;5;28;01mfor\u001B[39;00m filename \u001B[38;5;129;01min\u001B[39;00m \u001B[43mos\u001B[49m\u001B[38;5;241;43m.\u001B[39;49m\u001B[43mlistdir\u001B[49m\u001B[43m(\u001B[49m\u001B[43mcategory_dir\u001B[49m\u001B[43m)\u001B[49m:\n\u001B[1;32m     20\u001B[0m     \u001B[38;5;28;01mif\u001B[39;00m filename\u001B[38;5;241m.\u001B[39mendswith(\u001B[38;5;124m\"\u001B[39m\u001B[38;5;124m.off\u001B[39m\u001B[38;5;124m\"\u001B[39m):\n\u001B[1;32m     21\u001B[0m         mesh_paths\u001B[38;5;241m.\u001B[39mappend(os\u001B[38;5;241m.\u001B[39mpath\u001B[38;5;241m.\u001B[39mjoin(category_dir, filename))\n",
      "\u001B[0;31mFileNotFoundError\u001B[0m: [Errno 2] No such file or directory: 'data/raw/ModelNet10/chair/train'"
     ]
    }
   ],
   "execution_count": 5
  },
  {
   "metadata": {},
   "cell_type": "code",
   "outputs": [],
   "execution_count": null,
   "source": "",
   "id": "6d0d31dd79fa12db"
  }
 ],
 "metadata": {
  "kernelspec": {
   "display_name": "Python 3",
   "language": "python",
   "name": "python3"
  },
  "language_info": {
   "codemirror_mode": {
    "name": "ipython",
    "version": 2
   },
   "file_extension": ".py",
   "mimetype": "text/x-python",
   "name": "python",
   "nbconvert_exporter": "python",
   "pygments_lexer": "ipython2",
   "version": "2.7.6"
  }
 },
 "nbformat": 4,
 "nbformat_minor": 5
}
